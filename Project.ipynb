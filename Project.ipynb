{
 "cells": [
  {
   "cell_type": "code",
   "execution_count": 12,
   "id": "a1824682",
   "metadata": {},
   "outputs": [
    {
     "data": {
      "text/html": [
       "<div>\n",
       "<style scoped>\n",
       "    .dataframe tbody tr th:only-of-type {\n",
       "        vertical-align: middle;\n",
       "    }\n",
       "\n",
       "    .dataframe tbody tr th {\n",
       "        vertical-align: top;\n",
       "    }\n",
       "\n",
       "    .dataframe thead th {\n",
       "        text-align: right;\n",
       "    }\n",
       "</style>\n",
       "<table border=\"1\" class=\"dataframe\">\n",
       "  <thead>\n",
       "    <tr style=\"text-align: right;\">\n",
       "      <th></th>\n",
       "      <th>Year</th>\n",
       "      <th>Points per game</th>\n",
       "      <th>Field Goals Made</th>\n",
       "      <th>Field Goals Made Attempted</th>\n",
       "      <th>Field Goals Percentage</th>\n",
       "      <th>3 point Made</th>\n",
       "      <th>3 point Attempted</th>\n",
       "      <th>3 point made percentage</th>\n",
       "      <th>3 point made per game</th>\n",
       "      <th>Free throws Made</th>\n",
       "      <th>Free Throws Attended</th>\n",
       "      <th>Free throws Percentage</th>\n",
       "      <th>Rebounds per game</th>\n",
       "      <th>Assists per game</th>\n",
       "      <th>Turnovers per game</th>\n",
       "    </tr>\n",
       "  </thead>\n",
       "  <tbody>\n",
       "    <tr>\n",
       "      <th>0</th>\n",
       "      <td>2020</td>\n",
       "      <td>99.0</td>\n",
       "      <td>218</td>\n",
       "      <td>437</td>\n",
       "      <td>0.499</td>\n",
       "      <td>80</td>\n",
       "      <td>205</td>\n",
       "      <td>0.390</td>\n",
       "      <td>13.3</td>\n",
       "      <td>78</td>\n",
       "      <td>100</td>\n",
       "      <td>0.78</td>\n",
       "      <td>37.2</td>\n",
       "      <td>24.3</td>\n",
       "      <td>10.3</td>\n",
       "    </tr>\n",
       "    <tr>\n",
       "      <th>1</th>\n",
       "      <td>2016</td>\n",
       "      <td>100.9</td>\n",
       "      <td>278</td>\n",
       "      <td>590</td>\n",
       "      <td>0.471</td>\n",
       "      <td>83</td>\n",
       "      <td>225</td>\n",
       "      <td>0.369</td>\n",
       "      <td>10.4</td>\n",
       "      <td>168</td>\n",
       "      <td>224</td>\n",
       "      <td>0.75</td>\n",
       "      <td>45.5</td>\n",
       "      <td>24.0</td>\n",
       "      <td>11.8</td>\n",
       "    </tr>\n",
       "  </tbody>\n",
       "</table>\n",
       "</div>"
      ],
      "text/plain": [
       "   Year  Points per game  Field Goals Made  Field Goals Made Attempted  \\\n",
       "0  2020             99.0               218                         437   \n",
       "1  2016            100.9               278                         590   \n",
       "\n",
       "   Field Goals Percentage  3 point Made  3 point Attempted  \\\n",
       "0                   0.499            80                205   \n",
       "1                   0.471            83                225   \n",
       "\n",
       "   3 point made percentage  3 point made per game  Free throws Made  \\\n",
       "0                    0.390                   13.3                78   \n",
       "1                    0.369                   10.4               168   \n",
       "\n",
       "   Free Throws Attended  Free throws Percentage  Rebounds per game  \\\n",
       "0                   100                    0.78               37.2   \n",
       "1                   224                    0.75               45.5   \n",
       "\n",
       "   Assists per game  Turnovers per game  \n",
       "0              24.3                10.3  \n",
       "1              24.0                11.8  "
      ]
     },
     "execution_count": 12,
     "metadata": {},
     "output_type": "execute_result"
    }
   ],
   "source": [
    "#Import de la librairie pandas\n",
    "import pandas\n",
    "\n",
    "#Lecture des fichiers de données en spécifiant le séparateur point-virgule ';'\n",
    "equipeJO = pandas.read_csv(\"20162020_JO_Team.csv\", sep=';')\n",
    "joueurJO2016 = pandas.read_csv(\"2016_JO_Player.csv\", sep=';')\n",
    "joueurNBA2016 = pandas.read_csv(\"2016_NBA_Player.csv\", sep=';')\n",
    "joueurNBAWP2016 = pandas.read_csv(\"2016_NBA_Player_WP.csv\", sep=';')\n",
    "equipeNBA2016 = pandas.read_csv(\"2016_NBA_Team.csv\", sep=';')\n",
    "joueurJO2020 = pandas.read_csv(\"2020_JO_Player.csv\", sep=';')\n",
    "joueurNBA2020 = pandas.read_csv(\"2020_NBA_Player.csv\", sep=';')\n",
    "equipeNBA2020 = pandas.read_csv(\"2020_NBA_Team.csv\", sep=';')\n",
    "\n",
    "#print(notes.dtypes)\n",
    "equipeJO"
   ]
  },
  {
   "cell_type": "markdown",
   "id": "e757f641",
   "metadata": {},
   "source": [
    "Quel est la corrélation entre la participation aux Olympiques et le classements des joueurs dans la NBA?"
   ]
  },
  {
   "cell_type": "code",
   "execution_count": null,
   "id": "0b248624",
   "metadata": {},
   "outputs": [],
   "source": []
  },
  {
   "cell_type": "markdown",
   "id": "d1d36223",
   "metadata": {},
   "source": [
    "Est-ce que les joueurs de la NBA ont une performance similaire moyenne en saison régulière comparé aux olympiques (Points, rebound, assist et block)?"
   ]
  },
  {
   "cell_type": "code",
   "execution_count": null,
   "id": "a1096111",
   "metadata": {},
   "outputs": [],
   "source": []
  },
  {
   "cell_type": "markdown",
   "id": "155f07c8",
   "metadata": {},
   "source": [
    "Est-ce que la performance moyenne d'une équipe de la NBA est semblable à une équipe Olympique?"
   ]
  },
  {
   "cell_type": "code",
   "execution_count": null,
   "id": "7db4204b",
   "metadata": {},
   "outputs": [],
   "source": []
  },
  {
   "cell_type": "markdown",
   "id": "f850a613",
   "metadata": {},
   "source": [
    "Est-ce que l'écart-type est similaire entre les joueurs d'une équipe de la NBA et ceux d'une équipe Olympique?"
   ]
  },
  {
   "cell_type": "code",
   "execution_count": null,
   "id": "33616a38",
   "metadata": {},
   "outputs": [],
   "source": []
  }
 ],
 "metadata": {
  "kernelspec": {
   "display_name": "Python 3 (ipykernel)",
   "language": "python",
   "name": "python3"
  },
  "language_info": {
   "codemirror_mode": {
    "name": "ipython",
    "version": 3
   },
   "file_extension": ".py",
   "mimetype": "text/x-python",
   "name": "python",
   "nbconvert_exporter": "python",
   "pygments_lexer": "ipython3",
   "version": "3.9.7"
  }
 },
 "nbformat": 4,
 "nbformat_minor": 5
}
