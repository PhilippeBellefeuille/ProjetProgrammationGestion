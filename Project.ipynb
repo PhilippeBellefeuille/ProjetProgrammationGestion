{
 "cells": [
  {
   "cell_type": "code",
   "execution_count": 39,
   "id": "df723941",
   "metadata": {},
   "outputs": [
    {
     "name": "stdout",
     "output_type": "stream",
     "text": [
      "<div class=\"sib-table-container sib-table-full-player-stats sib-league-player-stats players-stats\" data-ng-cloak=\"\" data-ng-controller=\"FullPlayerStatsController\">\n",
      "<div class=\"table-title\">\n",
      "<div class=\"title\">\n",
      "<span>\n",
      "<span class=\"table-title__season-wrapper\">\n",
      "<span class=\"season-type {{ seasonType }}\" ng-if=\"seasonType\">{{ seasonYearDisplay + \" \" + ('_seasonType.' + seasonType | i18next) }}</span>\n",
      "</span>\n",
      "<span class=\"full-player-stats__title\">{{ 'fullTeamStats.title' | i18next }}</span>\n",
      "</span>\n",
      "</div>\n",
      "<div class=\"filter-button\" data-ng-class=\"{toggled: showFilters==true}\" data-ng-click=\"showFilters=!showFilters\">\n",
      "<i class=\"icon icon-remove\" data-ng-show=\"showFilters==true\"></i>\n",
      "<i class=\"icon icon-cog\" data-ng-show=\"showFilters==false\"></i>\n",
      "</div>\n",
      "<div class=\"sib-table-filters\" data-ng-show=\"showFilters==true\">\n",
      "<div class=\"filter-row stats-filters\">\n",
      "<div class=\"filters\">\n",
      "<select data-ng-model=\"selectedFilters.seasonType\" data-ng-options=\"c.display for c in filterData.seasonType\" id=\"filter-seasonType\" name=\"seasonType\"></select>\n",
      "<select data-ng-model=\"selectedFilters.season\" data-ng-options=\"c.display for c in filterData.season\" id=\"filter-season\" name=\"season\"></select>\n",
      "<select data-ng-model=\"selectedFilters.statType\" data-ng-options=\"c.display for c in filterData.statType\" id=\"filter-statType\" name=\"statType\"></select>\n",
      "<select class=\"hidden-sm\" data-ng-model=\"selectedFilters.position\" data-ng-options=\"c.display for c in filterData.position\" id=\"filter-position\" name=\"position\"></select>\n",
      "<select class=\"hidden-sm\" data-ng-if=\"!isJrNBA\" data-ng-model=\"selectedFilters.individual\" data-ng-options=\"c.display for c in filterData.individual\" id=\"filter-individual\" name=\"individual\"></select>\n",
      "<select class=\"hidden-sm\" data-ng-model=\"selectedFilters.conference\" data-ng-options=\"c.display for c in filterData.conference\" id=\"filter-conference\" name=\"conference\"></select>\n",
      "<select class=\"hidden-sm\" data-ng-if=\"!isJrNBA\" data-ng-model=\"selectedFilters.country\" data-ng-options=\"c.display for c in filterData.country\" id=\"filter-country\" name=\"country\"></select>\n",
      "<select data-ng-model=\"selectedFilters.total\" data-ng-options=\"c.display for c in filterData.total\" id=\"filter-total\" name=\"total\"></select>\n",
      "<select class=\"hidden-sm\" data-ng-if=\"!isJrNBA\" data-ng-model=\"selectedFilters.qualified\" data-ng-options=\"c.display for c in filterData.qualified\" id=\"filter-qualified\" name=\"qualified\"></select>\n",
      "<select class=\"hidden-sm\" data-ng-if=\"!isJrNBA\" data-ng-model=\"selectedFilters.split\" data-ng-options=\"c.display for c in filterData.split\" id=\"filter-split\" name=\"split\"></select>\n",
      "<select class=\"hidden-sm\" data-ng-if=\"isJrNBA\" data-ng-model=\"selectedFilters.teamId\" data-ng-options=\"c.display for c in filterData.teamId\" id=\"filter-teamId\" name=\"teamId\"></select>\n",
      "<a class=\"filter-apply\" data-ng-click=\"filterTable(true)\" href=\"javascript:void(0)\"><span data-ng-i18next=\"fullPlayerStats.go\"></span></a>\n",
      "</div>\n",
      "</div> <!-- / .filter-row -->\n",
      "</div>\n",
      "</div>\n",
      "<div>\n",
      "<div class=\"preloader\" data-ng-show=\"moduleLoading\">\n",
      "<img src=\"/media/img/loader.gif\"/><br/>\n",
      "</div>\n",
      "<div ng-if=\"!moduleLoading\">\n",
      "<nba-stat-table ai=\"showingTotal\" class=\"players-stats__table\" options=\"options\" rows=\"players\" template=\"players/players-statistics\"></nba-stat-table>\n",
      "</div>\n",
      "</div>\n",
      "</div>\n"
     ]
    }
   ],
   "source": [
    "# import requests\n",
    "#https://ca.global.nba.com/statistics/\n",
    "page = requests.get(\"https://ca.global.nba.com/statistics/\")\n",
    "\n",
    "from bs4 import BeautifulSoup\n",
    "soup = BeautifulSoup(page.content, 'html.parser')\n",
    "#\n",
    "\n",
    "blocs = set()\n",
    "for bloc in soup.find_all('div', class_='sib-table-full-player-stats'):\n",
    "        print(bloc)\n"
   ]
  },
  {
   "cell_type": "code",
   "execution_count": 10,
   "id": "be11d926",
   "metadata": {},
   "outputs": [],
   "source": [
    "#Import de la librairie pandas\n",
    "import pandas\n",
    "\n",
    "#Lecture des fichiers de données en spécifiant le séparateur point-virgule ';'\n",
    "equipeJO = pandas.read_csv(\"20162020_JO_Team.csv\", sep=';')\n",
    "\n",
    "joueurJO2016 = pandas.read_csv(\"2016_JO_Player.csv\", sep=';')\n",
    "joueurNBA2016 = pandas.read_csv(\"2016_NBA_Player.csv\", sep=';')\n",
    "\n",
    "#Liste provenant de WashingtonPost. Information peut-être redondante avec le non-WP. \n",
    "joueurNBAWP2016 = pandas.read_csv(\"2016_NBA_Player_WP.csv\", sep=';')\n",
    "equipeNBA2016 = pandas.read_csv(\"2016_NBA_Team.csv\", sep=';')\n",
    "\n",
    "#2020\n",
    "joueurJO2020 = pandas.read_csv(\"2020_JO_Player.csv\", sep=';')\n",
    "joueurNBA2020 = pandas.read_csv(\"2020_NBA_Player.csv\", sep=';')\n",
    "equipeNBA2020 = pandas.read_csv(\"2020_NBA_Team.csv\", sep=';')\n",
    "\n",
    "#print(notes.dtypes)\n",
    "#joueurNBA2016"
   ]
  },
  {
   "cell_type": "markdown",
   "id": "e757f641",
   "metadata": {},
   "source": [
    "Quel est la corrélation entre la participation aux Olympiques et le classements des joueurs dans la NBA?"
   ]
  },
  {
   "cell_type": "code",
   "execution_count": 40,
   "id": "0b248624",
   "metadata": {
    "scrolled": true
   },
   "outputs": [
    {
     "name": "stdout",
     "output_type": "stream",
     "text": [
      "Name                                object\n",
      "AgeJO                                int64\n",
      "TeamJO                              object\n",
      "PositionJO                          object\n",
      "Games PlayedJO                       int64\n",
      "Game StartedJO                       int64\n",
      "Field Goals Made                     int64\n",
      " Field Goals Attempted               int64\n",
      "Field Goals Made PercentageJO      float64\n",
      "3 Point Made                         int64\n",
      "3 Point Attempted                    int64\n",
      "3 Point Made Percentage            float64\n",
      "Free Throws Made                     int64\n",
      "Free Throws Attempted                int64\n",
      "Free Throws Made PercentageJO      float64\n",
      "Total Rebounds                       int64\n",
      "Rebounds Average                   float64\n",
      "Total Points                         int64\n",
      "Points Average                     float64\n",
      "Total Assists                        int64\n",
      "Assists Average                    float64\n",
      "Total Blocks                         int64\n",
      "Blocks Average                     float64\n",
      "Steals                               int64\n",
      "Steals Average                     float64\n",
      "Rank                                 int64\n",
      "AgeNBA                             float64\n",
      "TeamNBA                            float64\n",
      "PositionNBA                        float64\n",
      "Games PlayedNBA                      int64\n",
      "Game StartedNBA                    float64\n",
      "Field Goals Made Per Game          float64\n",
      " Field Goals Attempted Per Game    float64\n",
      "Field Goals Made PercentageNBA     float64\n",
      "3 Point Made Per Game              float64\n",
      "3 Point Attempted Per Game         float64\n",
      "3 Point Made Percentage            float64\n",
      "Free Throws Made Per Game          float64\n",
      "Free Throws Attempted Per Game     float64\n",
      "Free Throws Made PercentageNBA     float64\n",
      "Rebounds Per Game                  float64\n",
      "Points Per game                    float64\n",
      "Assists per game                   float64\n",
      "Blocks per Game                    float64\n",
      "Steals Per Game                    float64\n",
      "dtype: object\n"
     ]
    }
   ],
   "source": [
    "# jointure\n",
    "#df_sales_full = df_sales.join(df_product.set_index(\"product_id\"), on=\"product_id\")\n",
    "\n",
    "#print(joueurJO2016.columns)\n",
    "joueur2016 = joueurJO2016.join(joueurNBA2016.set_index('Name'), on=\"Name\", lsuffix='JO', rsuffix='NBA', how='inner')\n",
    "joueur2020 = joueurJO2020.join(joueurNBA2020.set_index('Name'), on=\"Name\", lsuffix='JO', rsuffix='NBA', how='inner')\n",
    "\n",
    "\n",
    "#print(joueurJO2016.dtypes)\n",
    "#print(joueurNBA2016.dtypes)\n",
    "print(joueur2020.dtypes)\n"
   ]
  },
  {
   "cell_type": "markdown",
   "id": "d1d36223",
   "metadata": {},
   "source": [
    "Est-ce que les joueurs de la NBA ont une performance similaire moyenne en saison régulière comparé aux olympiques (Points, rebound, assist et block)?"
   ]
  },
  {
   "cell_type": "code",
   "execution_count": null,
   "id": "a1096111",
   "metadata": {},
   "outputs": [],
   "source": []
  },
  {
   "cell_type": "markdown",
   "id": "155f07c8",
   "metadata": {},
   "source": [
    "Est-ce que la performance moyenne d'une équipe de la NBA est semblable à une équipe Olympique?"
   ]
  },
  {
   "cell_type": "code",
   "execution_count": null,
   "id": "7db4204b",
   "metadata": {},
   "outputs": [],
   "source": []
  },
  {
   "cell_type": "markdown",
   "id": "f850a613",
   "metadata": {},
   "source": [
    "Est-ce que l'écart-type est similaire entre les joueurs d'une équipe de la NBA et ceux d'une équipe Olympique?"
   ]
  },
  {
   "cell_type": "code",
   "execution_count": null,
   "id": "33616a38",
   "metadata": {},
   "outputs": [],
   "source": []
  }
 ],
 "metadata": {
  "kernelspec": {
   "display_name": "Python 3 (ipykernel)",
   "language": "python",
   "name": "python3"
  },
  "language_info": {
   "codemirror_mode": {
    "name": "ipython",
    "version": 3
   },
   "file_extension": ".py",
   "mimetype": "text/x-python",
   "name": "python",
   "nbconvert_exporter": "python",
   "pygments_lexer": "ipython3",
   "version": "3.9.7"
  }
 },
 "nbformat": 4,
 "nbformat_minor": 5
}
