{
 "cells": [
  {
   "cell_type": "code",
   "execution_count": null,
   "id": "7854f1eb",
   "metadata": {},
   "outputs": [],
   "source": [
    "import requests\n",
    "from bs4 import BeautifulSoup\n",
    "import pandas as pd\n",
    "\n",
    "#Nous avons besoin de deux méthodes séparées pour les données de la NBA et des jeux olympiques\n",
    "#puisque les pages HTML ne sont pas encodées de la même façon.\n",
    "def ObtenirResultatsNBA(year):\n",
    "    \n",
    "    #On injecte l'année dans l'URL du site web pour avoir l'année souhaité\n",
    "    url = 'https://www.basketball-reference.com/leagues/NBA_{}_per_game.html'.format(year)\n",
    "    \n",
    "    #On créer la requête HTTP et on parse le HTML grâce à la librairie BeautifulSoup\n",
    "    r = requests.get(url)\n",
    "    r_html = r.text\n",
    "    soup = BeautifulSoup(r_html,'html.parser')\n",
    "    \n",
    "    #On trouve le thead du tableau afin d'obtenir les noms de colonne\n",
    "    head = soup.find(class_=\"thead\")\n",
    "    #Nous trouvons l'élément HTML ayant comme class full_table, afin d'obtenir\n",
    "    #le contenu du tableau\n",
    "    body = soup.find_all(class_=\"full_table\")\n",
    "    \n",
    "    #On nettoie le HTML reçu et on enlève les tags de padding au debut et à la fin\n",
    "    nomscolonne=[head.text for item in head][0].replace(\"\\n\",\",\").split(\",\")[1:-1]\n",
    "    \n",
    "    joueurs=[]\n",
    "    \n",
    "    #On itère dans toutes les lignes de contenu du tableau\n",
    "    for i in range(len(body)):\n",
    "        \n",
    "        joueur = []\n",
    "        \n",
    "        #On itère dans toutes les colonnes de la ligne en cours\n",
    "        #On va chercher toutes les éléments ayant pour tag th ou td. Le rang \n",
    "        #th comme tag alors que les autres colonne sont td.\n",
    "        for td in body[i].find_all(['th', 'td']):\n",
    "            joueur.append(td.text)\n",
    "    \n",
    "        joueurs.append(joueur)\n",
    "        \n",
    "    #On créer un nouveau dataframe avec la liste des joueurs et les noms de colonne.\n",
    "    df = pd.DataFrame(joueurs, columns=nomscolonne).set_index(\"Player\")\n",
    "    #On nettoie les noms des joueurs des charactères spéciaux pouvant s'y trouver\n",
    "    df.index = df.index.str.replace('*', '', regex=True)\n",
    "    \n",
    "    return df\n",
    "\n",
    "def ObtenirResultatsJO(year):\n",
    "    \n",
    "    #On injecte l'année dans l'URL du site web pour avoir l'année souhaité\n",
    "    url = 'https://www.basketball-reference.com/international/mens-olympics/{}_per_game.html'.format(year)\n",
    "\n",
    "    #On créer la requête HTTP et on parse le HTML grâce à la librairie BeautifulSoup\n",
    "    r = requests.get(url)\n",
    "    r_html = r.text\n",
    "    soup = BeautifulSoup(r_html,'html.parser')\n",
    "    \n",
    "    #On va trouvé l'élément HTML ayant commme class stats_table\n",
    "    table = soup.find(class_=\"stats_table\")\n",
    "    #On cherche l'élément thead à l'intérieur de table afin de trouver les noms de colomne\n",
    "    head = table.find('thead')\n",
    "    #On cherche l'élément tbody à l'intérieur de table afin de trouver le contenu\n",
    "    #du tableau et on créer une liste de tous les éléments tr s'y trouvant afin \n",
    "    #de créer un tableau avec les données brutes \n",
    "    body = table.find('tbody').find_all('tr')\n",
    "    \n",
    "    #On nettoie le HTML reçu et on enlève les tags de padding au debut et à la fin\n",
    "    nomscolonne = [head.text for item in head][0].replace(\"\\n\",\",\").split(\",\")[2:-2]\n",
    "    \n",
    "    joueurs = []\n",
    "    \n",
    "    #On itère dans toutes les lignes de contenu du tableau\n",
    "    for i in range(len(body)):\n",
    "        \n",
    "        joueur = []\n",
    "        \n",
    "        #On itère dans toutes les colonnes de la ligne en cours\n",
    "        #On va chercher toutes les éléments ayant pour tag th ou td. Le nom de joueur a \n",
    "        #th comme tag alors que les autres colonne sont td.\n",
    "        for td in body[i].find_all(['th', 'td']):\n",
    "            joueur.append(td.text)\n",
    "    \n",
    "        joueurs.append(joueur)\n",
    "        \n",
    "    #On créer un nouveau dataframe avec la liste des joueurs et les noms de colonne.\n",
    "    df = pd.DataFrame(joueurs, columns=nomscolonne).set_index(\"Player\")\n",
    "    #On nettoie les noms des joueurs des charactères spéciaux pouvant s'y trouver\n",
    "    df.index = df.index.str.replace('*', '', regex=True)\n",
    "    \n",
    "    return df\n",
    "\n",
    "ObtenirResultatsJO('2020')\n"
   ]
  },
  {
   "cell_type": "code",
   "execution_count": null,
   "id": "a1824682",
   "metadata": {},
   "outputs": [],
   "source": [
    "#Import de la librairie pandas\n",
    "import pandas\n",
    "\n",
    "#Lecture des fichiers de données en spécifiant le séparateur point-virgule ';'\n",
    "equipeJO = pandas.read_csv(\"20162020_JO_Team.csv\", sep=';')\n",
    "joueurJO2016 = pandas.read_csv(\"2016_JO_Player.csv\", sep=';')\n",
    "joueurNBA2016 = pandas.read_csv(\"2016_NBA_Player.csv\", sep=';')\n",
    "joueurNBAWP2016 = pandas.read_csv(\"2016_NBA_Player_WP.csv\", sep=';')\n",
    "equipeNBA2016 = pandas.read_csv(\"2016_NBA_Team.csv\", sep=';')\n",
    "joueurJO2020 = pandas.read_csv(\"2020_JO_Player.csv\", sep=';')\n",
    "joueurNBA2020 = pandas.read_csv(\"2020_NBA_Player.csv\", sep=';')\n",
    "equipeNBA2020 = pandas.read_csv(\"2020_NBA_Team.csv\", sep=';')\n",
    "\n",
    "#print(notes.dtypes)\n",
    "joueurNBA2016"
   ]
  },
  {
   "cell_type": "markdown",
   "id": "e757f641",
   "metadata": {},
   "source": [
    "Quel est la corrélation entre la participation aux Olympiques et le classements des joueurs dans la NBA?"
   ]
  },
  {
   "cell_type": "code",
   "execution_count": null,
   "id": "0b248624",
   "metadata": {},
   "outputs": [],
   "source": [
    "# jointure\n",
    "#df_sales_full = df_sales.join(df_product.set_index(\"product_id\"), on=\"product_id\")\n",
    "\n",
    "#print(joueurJO2016.columns)\n",
    "joueur2016 = joueurJO2016.join(joueurNBA2016.where(joueurNBA2016['Rank'] <= 12).set_index('Name'), on=\"Name\", lsuffix='JO', rsuffix='NBA', how='inner').sort_values(by=['Rank'])\n",
    "joueur2020 = joueurJO2020.join(joueurNBA2020.where(joueurNBA2020['Rank'] <= 12).set_index('Name'), on=\"Name\", lsuffix='JO', rsuffix='NBA', how='inner').sort_values(by=['Rank'])\n",
    "\n",
    "#joueur2020.transpose()\n",
    "joueur2016"
   ]
  },
  {
   "cell_type": "markdown",
   "id": "d1d36223",
   "metadata": {},
   "source": [
    "Est-ce que les joueurs de la NBA ont une performance similaire moyenne en saison régulière comparé aux olympiques (Points, rebound, assist et block)?"
   ]
  },
  {
   "cell_type": "code",
   "execution_count": null,
   "id": "a1096111",
   "metadata": {},
   "outputs": [],
   "source": []
  },
  {
   "cell_type": "markdown",
   "id": "155f07c8",
   "metadata": {},
   "source": [
    "Est-ce que la performance moyenne d'une équipe de la NBA est semblable à une équipe Olympique?"
   ]
  },
  {
   "cell_type": "code",
   "execution_count": null,
   "id": "7db4204b",
   "metadata": {},
   "outputs": [],
   "source": []
  },
  {
   "cell_type": "markdown",
   "id": "f850a613",
   "metadata": {},
   "source": [
    "Est-ce que l'écart-type est similaire entre les joueurs d'une équipe de la NBA et ceux d'une équipe Olympique?"
   ]
  },
  {
   "cell_type": "code",
   "execution_count": null,
   "id": "33616a38",
   "metadata": {},
   "outputs": [],
   "source": [
    "#L'ecart-type des joueurs de l'equipe NBA 2016\n",
    "joueurNBA2016[[\"Points Per game\",\"Rebounds Per Game\",\"Assists per game\",\"Blocks per Game\"]]\n",
    "NBA2016= joueurNBA2016.agg({\"Points Per game\": [\"std\"],\n",
    "           \"Rebounds Per Game\": [\"std\"],\n",
    "           \"Assists per game\":[\"std\"],\n",
    "           \"Blocks per Game\": [\"std\"]})\n",
    "NBA2016"
   ]
  },
  {
   "cell_type": "code",
   "execution_count": null,
   "id": "5d040143",
   "metadata": {},
   "outputs": [],
   "source": [
    "# L'écart-type des joueurs de l'équipe Olympique 2016\n",
    "joueurJO2016[[\"Points Average\",\"Rebounds Average\",\"Assists Average\",\"Average Blocks\"]]\n",
    "J02016= joueurJO2016.agg({\"Points Average\": [\"std\"],\n",
    "           \"Rebounds Average\": [\"std\"],\n",
    "           \"Assists Average\":[\"std\"],\n",
    "           \"Average Blocks\": [\"std\"]})\n",
    "J02016"
   ]
  },
  {
   "cell_type": "code",
   "execution_count": null,
   "id": "3b28912e",
   "metadata": {},
   "outputs": [],
   "source": [
    "# L'écart-type des joueurs de l'équipe Olympique 2020\n",
    "joueurJO2020\n",
    "joueurJO2020[[\"Points Average\",\"Rebounds Average\",\"Assists Average\",\"Blocks Average\"]]\n",
    "Jo2020= joueurJO2020.agg({\"Points Average\": [\"std\"],\n",
    "           \"Rebounds Average\": [\"std\"],\n",
    "           \"Assists Average\":[\"std\"],\n",
    "           \"Blocks Average\": [\"std\"]})\n",
    "JO2020"
   ]
  },
  {
   "cell_type": "code",
   "execution_count": null,
   "id": "8cd07df9",
   "metadata": {},
   "outputs": [],
   "source": [
    "#L'écart-type des joueurs de l'equipe NBA 2020\n",
    "joueurNBA2020[[\"Points Per game\",\"Rebounds Per Game\",\"Assists per game\",\"Blocks per Game\"]]\n",
    "NBA2020= joueurNBA2020.agg({\"Points Per game\": [\"std\"],\n",
    "           \"Rebounds Per Game\": [\"std\"],\n",
    "           \"Assists per game\":[\"std\"],\n",
    "           \"Blocks per Game\": [\"std\"]})\n",
    "NBA2020"
   ]
  },
  {
   "cell_type": "code",
   "execution_count": null,
   "id": "c19044d5",
   "metadata": {},
   "outputs": [],
   "source": [
    "df_tauxchange = pandas.concat([NBA2020,JO2020,JO2016,NBA2016])\n"
   ]
  },
  {
   "cell_type": "markdown",
   "id": "8b825999",
   "metadata": {},
   "source": [
    "### "
   ]
  }
 ],
 "metadata": {
  "kernelspec": {
   "display_name": "Python 3 (ipykernel)",
   "language": "python",
   "name": "python3"
  },
  "language_info": {
   "codemirror_mode": {
    "name": "ipython",
    "version": 3
   },
   "file_extension": ".py",
   "mimetype": "text/x-python",
   "name": "python",
   "nbconvert_exporter": "python",
   "pygments_lexer": "ipython3",
   "version": "3.9.7"
  }
 },
 "nbformat": 4,
 "nbformat_minor": 5
}
