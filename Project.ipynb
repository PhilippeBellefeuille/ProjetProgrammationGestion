{
 "cells": [
  {
   "cell_type": "markdown",
   "id": "e757f641",
   "metadata": {},
   "source": [
    "Quel est la corrélation entre la participation aux Olympiques et le classements des joueurs dans la NBA?"
   ]
  },
  {
   "cell_type": "code",
   "execution_count": null,
   "id": "0b248624",
   "metadata": {},
   "outputs": [],
   "source": []
  },
  {
   "cell_type": "markdown",
   "id": "d1d36223",
   "metadata": {},
   "source": [
    "Est-ce que les joueurs de la NBA ont une performance similaire moyenne en saison régulière comparé aux olympiques (Points, rebound, assist et block)?"
   ]
  },
  {
   "cell_type": "code",
   "execution_count": null,
   "id": "a1096111",
   "metadata": {},
   "outputs": [],
   "source": []
  },
  {
   "cell_type": "markdown",
   "id": "155f07c8",
   "metadata": {},
   "source": [
    "Est-ce que la performance moyenne d'une équipe de la NBA est semblable à une équipe Olympique?"
   ]
  },
  {
   "cell_type": "code",
   "execution_count": null,
   "id": "7db4204b",
   "metadata": {},
   "outputs": [],
   "source": []
  },
  {
   "cell_type": "markdown",
   "id": "f850a613",
   "metadata": {},
   "source": [
    "Est-ce que l'écart-type est similaire entre les joueurs d'une équipe de la NBA et ceux d'une équipe Olympique?"
   ]
  },
  {
   "cell_type": "code",
   "execution_count": null,
   "id": "33616a38",
   "metadata": {},
   "outputs": [],
   "source": []
  }
 ],
 "metadata": {
  "kernelspec": {
   "display_name": "Python 3 (ipykernel)",
   "language": "python",
   "name": "python3"
  },
  "language_info": {
   "codemirror_mode": {
    "name": "ipython",
    "version": 3
   },
   "file_extension": ".py",
   "mimetype": "text/x-python",
   "name": "python",
   "nbconvert_exporter": "python",
   "pygments_lexer": "ipython3",
   "version": "3.9.7"
  }
 },
 "nbformat": 4,
 "nbformat_minor": 5
}
